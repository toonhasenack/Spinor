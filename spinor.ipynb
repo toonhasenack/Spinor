{
 "cells": [
  {
   "cell_type": "code",
   "execution_count": 130,
   "metadata": {},
   "outputs": [
    {
     "name": "stdout",
     "output_type": "stream",
     "text": [
      "The autoreload extension is already loaded. To reload it, use:\n",
      "  %reload_ext autoreload\n"
     ]
    }
   ],
   "source": [
    "from src.Spinor import *\n",
    "\n",
    "%load_ext autoreload\n",
    "%autoreload 2"
   ]
  },
  {
   "cell_type": "code",
   "execution_count": 131,
   "metadata": {},
   "outputs": [],
   "source": [
    "s = Spinor([3,1], [1/np.sqrt(2),0,0,1/np.sqrt(2)], [0,0,0,0])"
   ]
  },
  {
   "cell_type": "code",
   "execution_count": 133,
   "metadata": {},
   "outputs": [
    {
     "name": "stdout",
     "output_type": "stream",
     "text": [
      "[(-0.7071067811865475+0j), 0j, 0j, 0j]\n"
     ]
    },
    {
     "data": {
      "text/plain": [
       "-((0.70711-0j)^g0)"
      ]
     },
     "execution_count": 133,
     "metadata": {},
     "output_type": "execute_result"
    }
   ],
   "source": [
    "s.to_column()\n",
    "s.column_to_spinor(s.evects[:,0])"
   ]
  },
  {
   "cell_type": "code",
   "execution_count": 145,
   "metadata": {},
   "outputs": [
    {
     "name": "stdout",
     "output_type": "stream",
     "text": [
      "[[-0.14644661  0.          0.         -0.35355339]\n",
      " [ 0.          0.          0.          0.        ]\n",
      " [ 0.          0.          0.          0.        ]\n",
      " [-0.35355339  0.          0.         -0.85355339]]\n",
      "[[-0.14644661  0.          0.         -0.35355339]\n",
      " [ 0.         -0.14644661  0.35355339  0.        ]\n",
      " [ 0.          0.35355339 -0.85355339  0.        ]\n",
      " [-0.35355339  0.          0.         -0.85355339]]\n",
      "[[ 0.70710678  0.          0.         -0.70710678]\n",
      " [ 0.         -0.14644661  0.35355339  0.        ]\n",
      " [ 0.          0.35355339 -0.85355339  0.        ]\n",
      " [-0.70710678  0.          0.         -0.70710678]]\n",
      "[[ 0.70710678  0.          0.         -0.70710678]\n",
      " [ 0.          0.70710678  0.70710678  0.        ]\n",
      " [ 0.          0.70710678 -0.70710678  0.        ]\n",
      " [-0.70710678  0.          0.         -0.70710678]]\n"
     ]
    }
   ],
   "source": [
    "sum = 0\n",
    "for i,e in enumerate(s.evects):\n",
    "    sum += np.outer(e.real,e.real)*s.evals[i]\n",
    "    print(sum)"
   ]
  }
 ],
 "metadata": {
  "kernelspec": {
   "display_name": "base",
   "language": "python",
   "name": "python3"
  },
  "language_info": {
   "codemirror_mode": {
    "name": "ipython",
    "version": 3
   },
   "file_extension": ".py",
   "mimetype": "text/x-python",
   "name": "python",
   "nbconvert_exporter": "python",
   "pygments_lexer": "ipython3",
   "version": "3.10.9"
  }
 },
 "nbformat": 4,
 "nbformat_minor": 2
}
