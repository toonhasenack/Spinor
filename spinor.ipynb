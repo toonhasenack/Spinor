{
 "cells": [
  {
   "cell_type": "code",
   "execution_count": 29,
   "metadata": {},
   "outputs": [
    {
     "name": "stdout",
     "output_type": "stream",
     "text": [
      "The autoreload extension is already loaded. To reload it, use:\n",
      "  %reload_ext autoreload\n"
     ]
    }
   ],
   "source": [
    "from src.Spinor import *\n",
    "\n",
    "%load_ext autoreload\n",
    "%autoreload 2"
   ]
  },
  {
   "cell_type": "code",
   "execution_count": 30,
   "metadata": {},
   "outputs": [],
   "source": [
    "s = Spinor([3,1], [1/np.sqrt(2),0,0,1/np.sqrt(2)], [0,0,0,0])"
   ]
  },
  {
   "cell_type": "code",
   "execution_count": 31,
   "metadata": {},
   "outputs": [
    {
     "name": "stdout",
     "output_type": "stream",
     "text": [
      "[[ 0.        +0.j  0.        +0.j  0.        +0.j  0.        +0.j]\n",
      " [ 0.        +0.j  1.41421356+0.j  0.        +0.j  1.41421356+0.j]\n",
      " [ 0.        +0.j  0.        +0.j  0.        +0.j  0.        +0.j]\n",
      " [ 0.        +0.j -1.41421356+0.j  0.        +0.j -1.41421356+0.j]]\n"
     ]
    },
    {
     "name": "stderr",
     "output_type": "stream",
     "text": [
      "c:\\Users\\toonh\\Documents\\Courses\\Master Thesis\\Spinors\\Spinor\\src\\Spinor.py:95: RuntimeWarning: divide by zero encountered in divide\n",
      "  return evects\n",
      "c:\\Users\\toonh\\Documents\\Courses\\Master Thesis\\Spinors\\Spinor\\src\\Spinor.py:95: RuntimeWarning: invalid value encountered in divide\n",
      "  return evects\n"
     ]
    },
    {
     "data": {
      "text/plain": [
       "(nan+nanj) + ((nan+nanj)^g0) + ((nan+nanj)^g1) + ((nan+nanj)^g2) + ((nan+nanj)^g3) + ((nan+nanj)^g01) + ((nan+nanj)^g02) + ((nan+nanj)^g03) + ((nan+nanj)^g12) + ((nan+nanj)^g13) + ((nan+nanj)^g23) + ((nan+nanj)^g012) + ((nan+nanj)^g013) + ((nan+nanj)^g023) + ((nan+nanj)^g123) + ((nan+nanj)^g0123)"
      ]
     },
     "execution_count": 31,
     "metadata": {},
     "output_type": "execute_result"
    }
   ],
   "source": [
    "s.to_column()\n",
    "s.column_to_spinor(s.evects)"
   ]
  },
  {
   "cell_type": "code",
   "execution_count": 32,
   "metadata": {},
   "outputs": [
    {
     "data": {
      "text/plain": [
       "array([[-0.   +0.j   ,    inf  +nanj,    nan  +nanj,  0.   +0.j   ],\n",
       "       [-0.   +0.271j,    nan  +nanj,    nan  +nanj, -0.653+0.j   ],\n",
       "       [ 0.   +0.j   ,    nan  +nanj,    inf  +nanj,  0.   +0.j   ],\n",
       "       [ 0.   +0.653j,    nan  +nanj,    nan  +nanj,  0.271+0.j   ]])"
      ]
     },
     "execution_count": 32,
     "metadata": {},
     "output_type": "execute_result"
    }
   ],
   "source": [
    "s.evects.round(3)"
   ]
  },
  {
   "cell_type": "code",
   "execution_count": 37,
   "metadata": {},
   "outputs": [
    {
     "data": {
      "text/plain": [
       "array([[nan+nanj, nan+nanj, nan+nanj, nan+nanj],\n",
       "       [nan+nanj, nan+nanj, nan+nanj, nan+nanj],\n",
       "       [nan+nanj, nan+nanj, nan+nanj, nan+nanj],\n",
       "       [nan+nanj, nan+nanj, nan+nanj, nan+nanj]])"
      ]
     },
     "execution_count": 37,
     "metadata": {},
     "output_type": "execute_result"
    }
   ],
   "source": [
    "np.dot(s.evects,np.conj(s.evects.T))"
   ]
  },
  {
   "cell_type": "code",
   "execution_count": 43,
   "metadata": {},
   "outputs": [],
   "source": [
    "v1 = s.evects[:,0]\n",
    "v2 = s.evects[:,3]"
   ]
  },
  {
   "cell_type": "code",
   "execution_count": 49,
   "metadata": {},
   "outputs": [
    {
     "data": {
      "text/plain": [
       "array([[ 0.        +0.j,  0.        +0.j,  0.        +0.j,\n",
       "         0.        +0.j],\n",
       "       [ 0.        +0.j,  0.35355339-0.j, -0.        +0.j,\n",
       "        -0.35355339+0.j],\n",
       "       [ 0.        +0.j, -0.        +0.j,  0.        +0.j,\n",
       "         0.        +0.j],\n",
       "       [ 0.        +0.j, -0.35355339+0.j,  0.        +0.j,\n",
       "        -0.35355339+0.j]])"
      ]
     },
     "execution_count": 49,
     "metadata": {},
     "output_type": "execute_result"
    }
   ],
   "source": [
    "np.outer(v1,np.conj(v1)) + np.outer(v2,np.conj(v2))"
   ]
  },
  {
   "cell_type": "code",
   "execution_count": null,
   "metadata": {},
   "outputs": [],
   "source": []
  }
 ],
 "metadata": {
  "kernelspec": {
   "display_name": "base",
   "language": "python",
   "name": "python3"
  },
  "language_info": {
   "codemirror_mode": {
    "name": "ipython",
    "version": 3
   },
   "file_extension": ".py",
   "mimetype": "text/x-python",
   "name": "python",
   "nbconvert_exporter": "python",
   "pygments_lexer": "ipython3",
   "version": "3.10.9"
  }
 },
 "nbformat": 4,
 "nbformat_minor": 2
}
